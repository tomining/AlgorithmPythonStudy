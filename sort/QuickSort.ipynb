{
 "cells": [
  {
   "cell_type": "markdown",
   "metadata": {},
   "source": [
    "## QuickSort\n",
    "\n",
    "퀵정렬\n",
    "* O(nlogn)\n",
    "* https://youtu.be/KThbTw5E23w"
   ]
  },
  {
   "cell_type": "code",
   "execution_count": 15,
   "metadata": {
    "collapsed": false
   },
   "outputs": [],
   "source": [
    "def quick_sort(alist, left_idx, right_idx):\n",
    "    if left_idx > right_idx:\n",
    "        return alist\n",
    "    \n",
    "    pivot_idx = left_idx\n",
    "            \n",
    "    while left_idx < right_idx:\n",
    "        if alist[left_idx] < alist[pivot_idx]:\n",
    "            left_idx += 1\n",
    "        elif alist[right_idx] > alist[pivot_idx]:\n",
    "            right_idx -= 1\n",
    "        else:\n",
    "            alist[left_idx], alist[right_idx] = alist[right_idx], alist[left_idx]\n",
    "    \n",
    "    alist[left_idx], alist[pivot_idx] = alist[pivot_idx], alist[left_idx]\n",
    "    print(alist)\n",
    "    quick_sort(alist, pivot_idx, left_idx - 1)\n",
    "    quick_sort(alist, left_idx + 1, len(alist) - 1)\n",
    "    \n",
    "    return alist"
   ]
  },
  {
   "cell_type": "code",
   "execution_count": 16,
   "metadata": {
    "collapsed": false
   },
   "outputs": [
    {
     "name": "stdout",
     "output_type": "stream",
     "text": [
      "[1, 13, 2, 6, 4, 8]\n",
      "[1, 2, 4, 6, 8, 13]\n",
      "[1, 2, 4, 6, 8, 13]\n",
      "[1, 2, 4, 6, 8, 13]\n",
      "[1, 2, 4, 6, 8, 13]\n",
      "[1, 2, 4, 6, 8, 13]\n"
     ]
    },
    {
     "data": {
      "text/plain": [
       "[1, 2, 4, 6, 8, 13]"
      ]
     },
     "execution_count": 16,
     "metadata": {},
     "output_type": "execute_result"
    }
   ],
   "source": [
    "quick_sort([8, 13, 2, 6, 1, 4], 0, 5)"
   ]
  },
  {
   "cell_type": "code",
   "execution_count": null,
   "metadata": {
    "collapsed": true
   },
   "outputs": [],
   "source": []
  }
 ],
 "metadata": {
  "anaconda-cloud": {},
  "kernelspec": {
   "display_name": "Python [conda root]",
   "language": "python",
   "name": "conda-root-py"
  },
  "language_info": {
   "codemirror_mode": {
    "name": "ipython",
    "version": 3
   },
   "file_extension": ".py",
   "mimetype": "text/x-python",
   "name": "python",
   "nbconvert_exporter": "python",
   "pygments_lexer": "ipython3",
   "version": "3.5.2"
  }
 },
 "nbformat": 4,
 "nbformat_minor": 1
}
