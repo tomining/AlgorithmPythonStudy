{
 "cells": [
  {
   "cell_type": "markdown",
   "metadata": {},
   "source": [
    "## Merge Sort\n",
    "\n",
    "병합정렬\n",
    "* O(nlogn)"
   ]
  },
  {
   "cell_type": "code",
   "execution_count": 1,
   "metadata": {
    "collapsed": true
   },
   "outputs": [],
   "source": [
    "def merge_sort(alist):\n",
    "    size = len(alist)\n",
    "    if size > 1:\n",
    "        mid = size//2\n",
    "        left_alist = alist[:mid]\n",
    "        right_alist = alist[mid:]\n",
    "        \n",
    "        merge_sort(left_alist)\n",
    "        merge_sort(right_alist)\n",
    "        \n",
    "        left_size = len(left_alist)\n",
    "        right_size = len(right_alist)\n",
    "        l_idx = 0\n",
    "        r_idx = 0\n",
    "                \n",
    "        while True:\n",
    "            if l_idx < left_size and r_idx < right_size:\n",
    "                if left_alist[l_idx] < right_alist[r_idx]:\n",
    "                    alist[l_idx + r_idx] = left_alist[l_idx]\n",
    "                    l_idx += 1\n",
    "                else:\n",
    "                    alist[l_idx + r_idx] = right_alist[r_idx]\n",
    "                    r_idx += 1\n",
    "            elif l_idx < left_size:\n",
    "                alist[l_idx + r_idx] = left_alist[l_idx]\n",
    "                l_idx += 1\n",
    "            elif r_idx < right_size:\n",
    "                alist[l_idx + r_idx] = right_alist[r_idx]\n",
    "                r_idx += 1\n",
    "            else:\n",
    "                break\n",
    "        \n",
    "    return alist"
   ]
  },
  {
   "cell_type": "code",
   "execution_count": 2,
   "metadata": {
    "collapsed": false
   },
   "outputs": [
    {
     "data": {
      "text/plain": [
       "[1, 2, 3, 4, 5, 6, 7, 8]"
      ]
     },
     "execution_count": 2,
     "metadata": {},
     "output_type": "execute_result"
    }
   ],
   "source": [
    "merge_sort([6, 2, 4, 1, 3, 7, 5, 8])"
   ]
  },
  {
   "cell_type": "code",
   "execution_count": 3,
   "metadata": {
    "collapsed": false
   },
   "outputs": [
    {
     "data": {
      "text/plain": [
       "[1, 2, 3, 4, 5, 6, 7]"
      ]
     },
     "execution_count": 3,
     "metadata": {},
     "output_type": "execute_result"
    }
   ],
   "source": [
    "merge_sort([6, 2, 4, 1, 3, 7, 5])"
   ]
  },
  {
   "cell_type": "code",
   "execution_count": null,
   "metadata": {
    "collapsed": true
   },
   "outputs": [],
   "source": []
  }
 ],
 "metadata": {
  "anaconda-cloud": {},
  "kernelspec": {
   "display_name": "Python [conda root]",
   "language": "python",
   "name": "conda-root-py"
  },
  "language_info": {
   "codemirror_mode": {
    "name": "ipython",
    "version": 3
   },
   "file_extension": ".py",
   "mimetype": "text/x-python",
   "name": "python",
   "nbconvert_exporter": "python",
   "pygments_lexer": "ipython3",
   "version": "3.5.2"
  }
 },
 "nbformat": 4,
 "nbformat_minor": 1
}
